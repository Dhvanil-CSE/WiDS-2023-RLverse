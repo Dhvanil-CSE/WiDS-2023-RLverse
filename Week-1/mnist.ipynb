{
  "cells": [
    {
      "cell_type": "markdown",
      "metadata": {
        "id": "nH_bnUOMy3kM"
      },
      "source": [
        "## MNIST Classification using PyTorch\n",
        "Implement a CNN model in PyTorch to classify MNIST dataset, you can use sklearn library to import the mnist dataset."
      ]
    },
    {
      "cell_type": "code",
      "execution_count": null,
      "metadata": {
        "id": "0XoQiOCSy3kR"
      },
      "outputs": [],
      "source": [
        "# Import all required libraries\n",
        "import numpy as np\n",
        "from matplotlib import pyplot as plt\n",
        "import pandas as pd\n",
        "import torch"
      ]
    },
    {
      "cell_type": "code",
      "execution_count": null,
      "metadata": {
        "colab": {
          "base_uri": "https://localhost:8080/"
        },
        "id": "wOQV3Uq8y3kS",
        "outputId": "a65d9541-86cd-400a-ab09-1c737a378330"
      },
      "outputs": [
        {
          "output_type": "stream",
          "name": "stdout",
          "text": [
            "Downloading http://yann.lecun.com/exdb/mnist/train-images-idx3-ubyte.gz\n",
            "Downloading http://yann.lecun.com/exdb/mnist/train-images-idx3-ubyte.gz to data/MNIST/raw/train-images-idx3-ubyte.gz\n"
          ]
        },
        {
          "output_type": "stream",
          "name": "stderr",
          "text": [
            "100%|██████████| 9912422/9912422 [00:00<00:00, 77418865.20it/s]\n"
          ]
        },
        {
          "output_type": "stream",
          "name": "stdout",
          "text": [
            "Extracting data/MNIST/raw/train-images-idx3-ubyte.gz to data/MNIST/raw\n",
            "\n",
            "Downloading http://yann.lecun.com/exdb/mnist/train-labels-idx1-ubyte.gz\n",
            "Downloading http://yann.lecun.com/exdb/mnist/train-labels-idx1-ubyte.gz to data/MNIST/raw/train-labels-idx1-ubyte.gz\n"
          ]
        },
        {
          "output_type": "stream",
          "name": "stderr",
          "text": [
            "100%|██████████| 28881/28881 [00:00<00:00, 76522864.07it/s]"
          ]
        },
        {
          "output_type": "stream",
          "name": "stdout",
          "text": [
            "Extracting data/MNIST/raw/train-labels-idx1-ubyte.gz to data/MNIST/raw\n",
            "\n",
            "Downloading http://yann.lecun.com/exdb/mnist/t10k-images-idx3-ubyte.gz\n",
            "Downloading http://yann.lecun.com/exdb/mnist/t10k-images-idx3-ubyte.gz to data/MNIST/raw/t10k-images-idx3-ubyte.gz\n"
          ]
        },
        {
          "output_type": "stream",
          "name": "stderr",
          "text": [
            "\n",
            "100%|██████████| 1648877/1648877 [00:00<00:00, 33045801.34it/s]\n"
          ]
        },
        {
          "output_type": "stream",
          "name": "stdout",
          "text": [
            "Extracting data/MNIST/raw/t10k-images-idx3-ubyte.gz to data/MNIST/raw\n",
            "\n",
            "Downloading http://yann.lecun.com/exdb/mnist/t10k-labels-idx1-ubyte.gz\n",
            "Downloading http://yann.lecun.com/exdb/mnist/t10k-labels-idx1-ubyte.gz to data/MNIST/raw/t10k-labels-idx1-ubyte.gz\n"
          ]
        },
        {
          "output_type": "stream",
          "name": "stderr",
          "text": [
            "100%|██████████| 4542/4542 [00:00<00:00, 15240423.01it/s]"
          ]
        },
        {
          "output_type": "stream",
          "name": "stdout",
          "text": [
            "Extracting data/MNIST/raw/t10k-labels-idx1-ubyte.gz to data/MNIST/raw\n",
            "\n"
          ]
        },
        {
          "output_type": "stream",
          "name": "stderr",
          "text": [
            "\n"
          ]
        }
      ],
      "source": [
        "# Start by scratch :)\n",
        "from torchvision import datasets\n",
        "from torchvision.transforms import ToTensor\n",
        "train_data = datasets.MNIST(\n",
        "    root = 'data',\n",
        "    train = True,\n",
        "    transform = ToTensor(),\n",
        "    download = True,\n",
        ")\n",
        "test_data = datasets.MNIST(\n",
        "    root = 'data',\n",
        "    train = False,\n",
        "    transform = ToTensor()\n",
        ")"
      ]
    },
    {
      "cell_type": "code",
      "execution_count": null,
      "metadata": {
        "id": "otGVkNHD0e5j",
        "colab": {
          "base_uri": "https://localhost:8080/"
        },
        "outputId": "ff715e74-61bb-4655-f08a-b6220c1c5a9f"
      },
      "outputs": [
        {
          "output_type": "execute_result",
          "data": {
            "text/plain": [
              "{'train': <torch.utils.data.dataloader.DataLoader at 0x79de06e64ee0>,\n",
              " 'test': <torch.utils.data.dataloader.DataLoader at 0x79de06e65000>}"
            ]
          },
          "metadata": {},
          "execution_count": 3
        }
      ],
      "source": [
        "\n",
        "from torch.utils.data import DataLoader\n",
        "train_loaders = {\n",
        "    'train' : torch.utils.data.DataLoader(train_data,\n",
        "                                          batch_size=100,\n",
        "                                          shuffle=True,\n",
        "                                          num_workers=1),\n",
        "\n",
        "    'test'  : torch.utils.data.DataLoader(test_data,\n",
        "                                          batch_size=100,\n",
        "                                          shuffle=True,\n",
        "                                          num_workers=1),\n",
        "}\n",
        "train_loaders"
      ]
    },
    {
      "cell_type": "code",
      "execution_count": null,
      "metadata": {
        "id": "Mp9-Nzgs29w0"
      },
      "outputs": [],
      "source": [
        "model=torch.nn.Sequential(\n",
        "    torch.nn.Conv2d(in_channels=1, out_channels=16, kernel_size=5, stride=1, padding=2),\n",
        "    torch.nn.ReLU(),\n",
        "    torch.nn.MaxPool2d(2),\n",
        "    torch.nn.Conv2d(16, 32, 5, 1, 2),\n",
        "    torch.nn.ReLU(),\n",
        "    torch.nn.MaxPool2d(2),\n",
        "    torch.nn.Flatten(),\n",
        "    torch.nn.Linear(32*7*7,10)\n",
        "    )"
      ]
    },
    {
      "cell_type": "code",
      "execution_count": null,
      "metadata": {
        "id": "OmS-ztGmEsNe"
      },
      "outputs": [],
      "source": [
        "# model(train_dataval)"
      ]
    },
    {
      "cell_type": "code",
      "execution_count": null,
      "metadata": {
        "colab": {
          "base_uri": "https://localhost:8080/"
        },
        "id": "2IL2raXcNIrq",
        "outputId": "f809bcde-7e1d-422a-cdda-0e11245c1eb8"
      },
      "outputs": [
        {
          "output_type": "stream",
          "name": "stdout",
          "text": [
            "Epoch [1/10], Step [100/600], Loss: 0.0120\n",
            "Epoch [1/10], Step [200/600], Loss: 0.0216\n",
            "Epoch [1/10], Step [300/600], Loss: 0.0323\n",
            "Epoch [1/10], Step [400/600], Loss: 0.0252\n",
            "Epoch [1/10], Step [500/600], Loss: 0.0224\n",
            "Epoch [1/10], Step [600/600], Loss: 0.0055\n",
            "Epoch [2/10], Step [100/600], Loss: 0.0343\n",
            "Epoch [2/10], Step [200/600], Loss: 0.0202\n",
            "Epoch [2/10], Step [300/600], Loss: 0.0081\n",
            "Epoch [2/10], Step [400/600], Loss: 0.0570\n",
            "Epoch [2/10], Step [500/600], Loss: 0.0851\n",
            "Epoch [2/10], Step [600/600], Loss: 0.0058\n",
            "Epoch [3/10], Step [100/600], Loss: 0.0252\n",
            "Epoch [3/10], Step [200/600], Loss: 0.0348\n",
            "Epoch [3/10], Step [300/600], Loss: 0.0219\n",
            "Epoch [3/10], Step [400/600], Loss: 0.0045\n",
            "Epoch [3/10], Step [500/600], Loss: 0.0036\n",
            "Epoch [3/10], Step [600/600], Loss: 0.0280\n",
            "Epoch [4/10], Step [100/600], Loss: 0.0066\n",
            "Epoch [4/10], Step [200/600], Loss: 0.0109\n",
            "Epoch [4/10], Step [300/600], Loss: 0.0069\n",
            "Epoch [4/10], Step [400/600], Loss: 0.0739\n",
            "Epoch [4/10], Step [500/600], Loss: 0.0053\n",
            "Epoch [4/10], Step [600/600], Loss: 0.0106\n",
            "Epoch [5/10], Step [100/600], Loss: 0.0234\n",
            "Epoch [5/10], Step [200/600], Loss: 0.0133\n",
            "Epoch [5/10], Step [300/600], Loss: 0.0100\n",
            "Epoch [5/10], Step [400/600], Loss: 0.0028\n",
            "Epoch [5/10], Step [500/600], Loss: 0.0985\n",
            "Epoch [5/10], Step [600/600], Loss: 0.0024\n",
            "Epoch [6/10], Step [100/600], Loss: 0.0070\n",
            "Epoch [6/10], Step [200/600], Loss: 0.0058\n",
            "Epoch [6/10], Step [300/600], Loss: 0.0102\n",
            "Epoch [6/10], Step [400/600], Loss: 0.0196\n",
            "Epoch [6/10], Step [500/600], Loss: 0.0196\n",
            "Epoch [6/10], Step [600/600], Loss: 0.0265\n",
            "Epoch [7/10], Step [100/600], Loss: 0.0050\n",
            "Epoch [7/10], Step [200/600], Loss: 0.0048\n",
            "Epoch [7/10], Step [300/600], Loss: 0.0166\n",
            "Epoch [7/10], Step [400/600], Loss: 0.0325\n",
            "Epoch [7/10], Step [500/600], Loss: 0.0024\n",
            "Epoch [7/10], Step [600/600], Loss: 0.0230\n",
            "Epoch [8/10], Step [100/600], Loss: 0.0064\n",
            "Epoch [8/10], Step [200/600], Loss: 0.0083\n",
            "Epoch [8/10], Step [300/600], Loss: 0.0013\n",
            "Epoch [8/10], Step [400/600], Loss: 0.0067\n",
            "Epoch [8/10], Step [500/600], Loss: 0.0050\n",
            "Epoch [8/10], Step [600/600], Loss: 0.0041\n",
            "Epoch [9/10], Step [100/600], Loss: 0.0045\n",
            "Epoch [9/10], Step [200/600], Loss: 0.0061\n",
            "Epoch [9/10], Step [300/600], Loss: 0.0049\n",
            "Epoch [9/10], Step [400/600], Loss: 0.0508\n",
            "Epoch [9/10], Step [500/600], Loss: 0.0102\n",
            "Epoch [9/10], Step [600/600], Loss: 0.0103\n",
            "Epoch [10/10], Step [100/600], Loss: 0.0163\n",
            "Epoch [10/10], Step [200/600], Loss: 0.0107\n",
            "Epoch [10/10], Step [300/600], Loss: 0.0053\n",
            "Epoch [10/10], Step [400/600], Loss: 0.0477\n",
            "Epoch [10/10], Step [500/600], Loss: 0.0193\n",
            "Epoch [10/10], Step [600/600], Loss: 0.0105\n"
          ]
        }
      ],
      "source": [
        "from torch import optim\n",
        "from torch.autograd import Variable\n",
        "optimizer = optim.Adam(model.parameters(), lr = 0.0001)\n",
        "optimizer\n",
        "loss=torch.nn.CrossEntropyLoss()\n",
        "iterations = 10\n",
        "for i in range(iterations):\n",
        "  # rloss=0.0\n",
        "  for iter, (images, labels) in enumerate(train_loaders['train']):\n",
        "    data = Variable(images)\n",
        "    target = Variable(labels)\n",
        "    output=model(data)\n",
        "    lossv=loss(output,target)\n",
        "    lossv.backward()\n",
        "    optimizer.step()\n",
        "    optimizer.zero_grad()\n",
        "    # rloss+=lossv.item()\n",
        "    if (iter+1) % 100 == 0:\n",
        "        print ('Epoch [{}/{}], Step [{}/{}], Loss: {:.4f}'.format(i + 1, iterations, iter + 1, len(train_loaders['train']), lossv.item()))\n"
      ]
    },
    {
      "cell_type": "code",
      "execution_count": null,
      "metadata": {
        "id": "Y3HU6q28t8pw",
        "colab": {
          "base_uri": "https://localhost:8080/"
        },
        "outputId": "fe2df375-8baf-4929-c5fd-05908de44ad9"
      },
      "outputs": [
        {
          "output_type": "stream",
          "name": "stdout",
          "text": [
            "1.0\n"
          ]
        }
      ],
      "source": [
        "with torch.no_grad():\n",
        "        correct = 0\n",
        "        total = 0\n",
        "        for images, labels in train_loaders['test']:\n",
        "            test_output = model(images)\n",
        "            pred_y = torch.max(test_output, 1)[1].data.squeeze()\n",
        "            accuracy = (pred_y == labels).sum().item() / float(labels.size(0))\n",
        "print( accuracy)"
      ]
    }
  ],
  "metadata": {
    "colab": {
      "provenance": []
    },
    "kernelspec": {
      "display_name": "Python 3",
      "name": "python3"
    },
    "language_info": {
      "name": "python"
    }
  },
  "nbformat": 4,
  "nbformat_minor": 0
}