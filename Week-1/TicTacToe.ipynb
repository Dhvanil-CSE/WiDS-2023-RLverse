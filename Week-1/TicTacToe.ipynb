{
  "cells": [
    {
      "cell_type": "markdown",
      "metadata": {
        "id": "rAaXOW2S4oPe"
      },
      "source": [
        "## Tic-Tac-Toe Simulation\n",
        "In this assignment you have to construct a python class \"TicTacToe\" which simulates the game of Tic-Tac-Toe, this will further be used as an enviroment to solve for you in next week.\n",
        "\n",
        "You may add arguments to given functions as per your need and also additional helper functions (whose name should start with \"_\", convention for private functions), but only the initially given functions can be called by any user. No additional imports are allowed. The game always starts with X's turn."
      ]
    },
    {
      "cell_type": "code",
      "execution_count": null,
      "metadata": {
        "id": "wL6_jSGs4oPg"
      },
      "outputs": [],
      "source": [
        "class TicTacToe:\n",
        "    def __init__(self, n):\n",
        "        self.board = [['_' for _ in range(n)] for _ in range(n)]\n",
        "        self.n = n\n",
        "        self.turn = 'X'\n",
        "        self.winner = None\n",
        "        self.GO = False\n",
        "\n",
        "    def act(self, x, y):\n",
        "        if not self.GO and 0 <= x < self.n and 0 <= y < self.n and self.board[x][y] == '_':\n",
        "            self.board[x][y] = self.turn\n",
        "            self._show_board()\n",
        "            if self.turn == 'X':\n",
        "                self.turn = 'O'\n",
        "            else:\n",
        "                self.turn = 'X'\n",
        "            winner = self._win_check()\n",
        "            if winner == 'X':\n",
        "                self.winner = 'X'\n",
        "                self.GO = True\n",
        "                return 'X'\n",
        "            elif winner == 'O':\n",
        "                self.winner = 'O'\n",
        "                self.GO = True\n",
        "                return 'O'\n",
        "            elif all(cell == 'X' or cell == 'O' for row in self.board for cell in row):\n",
        "                self.GO = True\n",
        "            return 'N'\n",
        "        elif not self.GO:\n",
        "            return 'W'\n",
        "\n",
        "    def reset(self):\n",
        "        self.board = [['_' for _ in range(self.n)] for _ in range(self.n)]\n",
        "\n",
        "    def _show_board(self):\n",
        "        for i in range(self.n):\n",
        "            for j in range(self.n):\n",
        "                print(self.board[i][j], end=' ')\n",
        "            print()\n",
        "\n",
        "    def _win_check(self):\n",
        "        countd1 = 0\n",
        "        countd2 = 0\n",
        "        for i in range(self.n):\n",
        "            counth = 0\n",
        "            countv = 0\n",
        "            for j in range(self.n):\n",
        "                if self.board[i][j] == 'X':\n",
        "                    counth += 1\n",
        "                if self.board[i][j] == 'O':\n",
        "                    counth -= 1\n",
        "                if self.board[j][i] == 'X':\n",
        "                    countv += 1\n",
        "                if self.board[j][i] == 'O':\n",
        "                    countv -= 1\n",
        "                if i == j and self.board[i][j] == 'X':\n",
        "                    countd1 += 1\n",
        "                if i == j and self.board[i][j] == 'O':\n",
        "                    countd1 -= 1\n",
        "                if i == j - self.n + 1 and self.board[i][j] == 'X':\n",
        "                    countd2 += 1\n",
        "                if i == j - self.n + 1 and self.board[i][j] == 'O':\n",
        "                    countd2 -= 1\n",
        "            if counth == self.n or countv == self.n or countd1 == self.n or countd2 == self.n:\n",
        "                return 'X'\n",
        "            if counth == -1 * self.n or countv == -1 * self.n or countd1 == -1 * self.n or countd2 == -1 * self.n:\n",
        "                return 'O'\n",
        "        return 'N'\n"
      ]
    },
    {
      "cell_type": "code",
      "source": [
        "game = TicTacToe(3)\n",
        "# game.print_board()\n",
        "print('X')\n",
        "while not game.GO:\n",
        "    row = int(input(\"Enter row : \"))\n",
        "    col = int(input(\"Enter column: \"))\n",
        "    game.act(row, col)\n",
        "    # game.print_board()\n",
        "\n",
        "print(\"Game Over!\")\n",
        "if game.winner:\n",
        "    print(f\"{game.winner} wins!\")\n",
        "else:\n",
        "    print(\"It's a tie!\")"
      ],
      "metadata": {
        "id": "1m80p43BDIOa"
      },
      "execution_count": null,
      "outputs": []
    }
  ],
  "metadata": {
    "language_info": {
      "name": "python"
    },
    "colab": {
      "provenance": []
    },
    "kernelspec": {
      "name": "python3",
      "display_name": "Python 3"
    }
  },
  "nbformat": 4,
  "nbformat_minor": 0
}